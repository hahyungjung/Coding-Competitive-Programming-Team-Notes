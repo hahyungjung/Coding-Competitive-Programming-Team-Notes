{
 "cells": [
  {
   "cell_type": "markdown",
   "id": "97117da9",
   "metadata": {},
   "source": [
    "https://leetcode.com/problems/sort-an-array/discuss/461394/Python-3-(Eight-Sorting-Algorithms)-(With-Explanation)  \n",
    "https://leetcode.com/discuss/general-discussion/1091763/must-do-all-required-sorting-algorithms-complete-guide"
   ]
  },
  {
   "cell_type": "markdown",
   "id": "799be27f",
   "metadata": {},
   "source": [
    "# Sorting Algorithms:\n",
    "\n",
    "Selection Sort  \n",
    "Bubble Sort  \n",
    "Insertion Sort  \n",
    "Binary Insertion Sort  \n",
    "Counting Sort  \n",
    "QuickSort  \n",
    "Merge Sort  \n",
    "Bucket Sort  "
   ]
  },
  {
   "cell_type": "code",
   "execution_count": 2,
   "id": "ebb168df",
   "metadata": {},
   "outputs": [],
   "source": [
    "from IPython.display import Image\n",
    "from IPython.core.display import HTML "
   ]
  },
  {
   "cell_type": "markdown",
   "id": "02d3bf9d",
   "metadata": {},
   "source": [
    "### Selection Sort"
   ]
  },
  {
   "cell_type": "code",
   "execution_count": 3,
   "id": "b9eb8569",
   "metadata": {},
   "outputs": [
    {
     "data": {
      "text/html": [
       "<img src=\"https://assets.leetcode.com/users/images/675707ad-630e-4d57-9168-6cd317d00c14_1614779897.159416.png\"/>"
      ],
      "text/plain": [
       "<IPython.core.display.Image object>"
      ]
     },
     "execution_count": 3,
     "metadata": {},
     "output_type": "execute_result"
    }
   ],
   "source": [
    "\n",
    "Image(url= \"https://assets.leetcode.com/users/images/675707ad-630e-4d57-9168-6cd317d00c14_1614779897.159416.png\")\n"
   ]
  },
  {
   "cell_type": "code",
   "execution_count": null,
   "id": "de95800e",
   "metadata": {},
   "outputs": [],
   "source": [
    "class Solution:\n",
    "    def sortArray(self, N: List[int]) -> List[int]:\n",
    "        L = len(N)\n",
    "        return [N.pop(min(range(L-i), key = lambda x: N[x])) for i in range(L)]"
   ]
  },
  {
   "cell_type": "code",
   "execution_count": 7,
   "id": "49c7d050",
   "metadata": {},
   "outputs": [
    {
     "name": "stdout",
     "output_type": "stream",
     "text": [
      "22\n",
      "33\n"
     ]
    }
   ],
   "source": [
    "# Lambda\n",
    "\n",
    "def myfunc(n):\n",
    "  return lambda a : a * n\n",
    "\n",
    "mydoubler = myfunc(2)\n",
    "mytripler = myfunc(3)\n",
    "\n",
    "print(mydoubler(11)) \n",
    "print(mytripler(11))"
   ]
  },
  {
   "cell_type": "code",
   "execution_count": 6,
   "id": "caac3e6b",
   "metadata": {},
   "outputs": [
    {
     "name": "stdout",
     "output_type": "stream",
     "text": [
      "[2, 4, 5, 7, 8]\n"
     ]
    }
   ],
   "source": [
    "n = 5\n",
    "data = [8, 5, 4, 7, 2]\n",
    "\n",
    "''' Selection Sort '''\n",
    "for i in range(n):\n",
    "    min_index = i # The index of the minimum value.\n",
    "    for j in range(i + 1, n):\n",
    "        if data[min_index] > data[j]:\n",
    "            min_index = j\n",
    "    data[i], data[min_index] = data[min_index], data[i] # Swap.\n",
    "\n",
    "print(data)"
   ]
  },
  {
   "cell_type": "code",
   "execution_count": 5,
   "id": "ccb713f6",
   "metadata": {},
   "outputs": [
    {
     "name": "stdout",
     "output_type": "stream",
     "text": [
      "[2, 3, 5, 6, 10]\n"
     ]
    }
   ],
   "source": [
    "\n",
    "def findSmallest(arr):\n",
    "  # Stores the smallest value\n",
    "  smallest = arr[0]\n",
    "  # Stores the index of the smallest value\n",
    "  smallest_index = 0\n",
    "  for i in range(1, len(arr)):\n",
    "    if arr[i] < smallest:\n",
    "      smallest_index = i\n",
    "      smallest = arr[i]      \n",
    "  return smallest_index\n",
    "\n",
    "# Sort array\n",
    "def selectionSort(arr):\n",
    "  newArr = []\n",
    "  for i in range(len(arr)):\n",
    "      # Finds the smallest element in the array and adds it to the new array\n",
    "      smallest = findSmallest(arr)\n",
    "      newArr.append(arr.pop(smallest))\n",
    "  return newArr\n",
    "\n",
    "print(selectionSort([5, 3, 6, 2, 10]))"
   ]
  },
  {
   "cell_type": "markdown",
   "id": "8dcf533b",
   "metadata": {},
   "source": [
    "### Bubble Sort"
   ]
  },
  {
   "cell_type": "code",
   "execution_count": 8,
   "id": "cee2b10e",
   "metadata": {},
   "outputs": [
    {
     "data": {
      "text/html": [
       "<img src=\"https://assets.leetcode.com/users/images/41955331-e14e-40ee-80ce-ea8dd3d7c7e5_1614779928.7023816.png\"/>"
      ],
      "text/plain": [
       "<IPython.core.display.Image object>"
      ]
     },
     "execution_count": 8,
     "metadata": {},
     "output_type": "execute_result"
    }
   ],
   "source": [
    "\n",
    "Image(url= \"https://assets.leetcode.com/users/images/41955331-e14e-40ee-80ce-ea8dd3d7c7e5_1614779928.7023816.png\")\n"
   ]
  },
  {
   "cell_type": "code",
   "execution_count": null,
   "id": "f73e32e7",
   "metadata": {},
   "outputs": [],
   "source": [
    "class Solution:\n",
    "    def sortArray(self, N: List[int]) -> List[int]:\n",
    "        L, B = len(N), 1\n",
    "        while B:\n",
    "            B = 0\n",
    "            for i in range(L-1):\n",
    "                if N[i] > N[i+1]: N[i], N[i+1], B = N[i+1], N[i], 1\n",
    "        return N"
   ]
  },
  {
   "cell_type": "markdown",
   "id": "bcabf605",
   "metadata": {},
   "source": [
    "### Insertion Sort"
   ]
  },
  {
   "cell_type": "code",
   "execution_count": 9,
   "id": "21f665f6",
   "metadata": {},
   "outputs": [
    {
     "data": {
      "text/html": [
       "<img src=\"https://assets.leetcode.com/users/images/6f71e5ee-58bf-42db-88b5-82cf4ea039b8_1614779989.7518167.png\"/>"
      ],
      "text/plain": [
       "<IPython.core.display.Image object>"
      ]
     },
     "execution_count": 9,
     "metadata": {},
     "output_type": "execute_result"
    }
   ],
   "source": [
    "Image(url= \"https://assets.leetcode.com/users/images/6f71e5ee-58bf-42db-88b5-82cf4ea039b8_1614779989.7518167.png\")"
   ]
  },
  {
   "cell_type": "code",
   "execution_count": null,
   "id": "c29484cc",
   "metadata": {},
   "outputs": [],
   "source": [
    "class Solution:\n",
    "    def sortArray(self, N: List[int]) -> List[int]:\n",
    "        L = len(N)\n",
    "        for i in range(1,L):\n",
    "            for j in range(0,i):\n",
    "                if N[i] < N[j]:\n",
    "                    N.insert(j, N.pop(i))\n",
    "                    break\n",
    "        return N"
   ]
  },
  {
   "cell_type": "markdown",
   "id": "6090186a",
   "metadata": {},
   "source": [
    "### Binary Insertion Sort"
   ]
  },
  {
   "cell_type": "code",
   "execution_count": null,
   "id": "d50ee621",
   "metadata": {},
   "outputs": [],
   "source": [
    "class Solution:\n",
    "    def sortArray(self, N: List[int]) -> List[int]:\n",
    "        L = len(N)\n",
    "        for i in range(1,L): bisect.insort_left(N, N.pop(i), 0, i)\n",
    "        return N"
   ]
  }
 ],
 "metadata": {
  "kernelspec": {
   "display_name": "Python 3 (ipykernel)",
   "language": "python",
   "name": "python3"
  },
  "language_info": {
   "codemirror_mode": {
    "name": "ipython",
    "version": 3
   },
   "file_extension": ".py",
   "mimetype": "text/x-python",
   "name": "python",
   "nbconvert_exporter": "python",
   "pygments_lexer": "ipython3",
   "version": "3.7.13"
  }
 },
 "nbformat": 4,
 "nbformat_minor": 5
}
