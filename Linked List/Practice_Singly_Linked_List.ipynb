{
 "cells": [
  {
   "cell_type": "code",
   "execution_count": 2,
   "id": "136e2625",
   "metadata": {},
   "outputs": [],
   "source": [
    "class Node:\n",
    "    def __init__(self, data):\n",
    "        self.data = data\n",
    "        self.next = None\n",
    "        \n",
    "class LinkedList:\n",
    "    def __init__(self):\n",
    "        self.head = None"
   ]
  },
  {
   "cell_type": "code",
   "execution_count": 6,
   "id": "98c04cdb",
   "metadata": {},
   "outputs": [],
   "source": [
    "first_node = Node(\"a\")\n",
    "second_node = Node(\"b\")\n",
    "third_node = Node(\"c\")\n",
    "\n",
    "l_list = LinkedList()\n",
    "l_list.head = first_node\n",
    "first_node.next = second_node\n",
    "second_node.next = third_node\n"
   ]
  },
  {
   "cell_type": "code",
   "execution_count": 4,
   "id": "805cdc5c",
   "metadata": {},
   "outputs": [],
   "source": [
    "first_node = Node(\"a\")\n",
    "second_node = Node(\"b\")\n",
    "third_node = Node(\"c\")\n",
    "\n",
    "l_list = LinkedList()\n",
    "\n",
    "l_list.head = first_node\n",
    "first_node.next = second_node\n",
    "second_node.next = third_node"
   ]
  },
  {
   "cell_type": "code",
   "execution_count": 5,
   "id": "00180a57",
   "metadata": {},
   "outputs": [
    {
     "name": "stdout",
     "output_type": "stream",
     "text": [
      "a -> b -> c -> None\n"
     ]
    }
   ],
   "source": [
    "string_repr = \"\"\n",
    "node = l_list.head\n",
    "\n",
    "while node is not None:\n",
    "    string_repr += node.data\n",
    "    string_repr += \" -> \"\n",
    "    node = node.next\n",
    "string_repr += \"None\"\n",
    "\n",
    "print(string_repr)"
   ]
  },
  {
   "cell_type": "code",
   "execution_count": null,
   "id": "e01ba1a6",
   "metadata": {},
   "outputs": [],
   "source": []
  }
 ],
 "metadata": {
  "kernelspec": {
   "display_name": "Python 3 (ipykernel)",
   "language": "python",
   "name": "python3"
  },
  "language_info": {
   "codemirror_mode": {
    "name": "ipython",
    "version": 3
   },
   "file_extension": ".py",
   "mimetype": "text/x-python",
   "name": "python",
   "nbconvert_exporter": "python",
   "pygments_lexer": "ipython3",
   "version": "3.9.7"
  }
 },
 "nbformat": 4,
 "nbformat_minor": 5
}
