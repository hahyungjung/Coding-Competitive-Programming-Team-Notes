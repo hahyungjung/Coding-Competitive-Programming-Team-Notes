{
 "cells": [
  {
   "cell_type": "markdown",
   "id": "b517b4bc",
   "metadata": {},
   "source": [
    "https://medium.com/better-programming/how-to-create-a-linked-list-in-python-aaf2796e0dd6  "
   ]
  },
  {
   "cell_type": "code",
   "execution_count": 55,
   "id": "206ac84e",
   "metadata": {},
   "outputs": [],
   "source": [
    "from IPython.display import Image\n",
    "from IPython.core.display import HTML "
   ]
  },
  {
   "cell_type": "code",
   "execution_count": 57,
   "id": "7092616b",
   "metadata": {},
   "outputs": [
    {
     "data": {
      "text/html": [
       "<img src=\"https://miro.medium.com/max/1400/1*duf48FEJSLCBiFGJxIKnxQ.jpeg\"/>"
      ],
      "text/plain": [
       "<IPython.core.display.Image object>"
      ]
     },
     "execution_count": 57,
     "metadata": {},
     "output_type": "execute_result"
    }
   ],
   "source": [
    "Image(url= \"https://miro.medium.com/max/1400/1*duf48FEJSLCBiFGJxIKnxQ.jpeg\")"
   ]
  },
  {
   "cell_type": "markdown",
   "id": "2fcead89",
   "metadata": {},
   "source": [
    "## Linked List"
   ]
  },
  {
   "cell_type": "code",
   "execution_count": 68,
   "id": "d2d2b31e",
   "metadata": {},
   "outputs": [],
   "source": [
    "class LinkedList:\n",
    "    def __init__(self):\n",
    "        self.head = None\n",
    "\n",
    "    def visualize(self):\n",
    "        node = self.head\n",
    "        nodes = []\n",
    "        while node is not None:\n",
    "            nodes.append(node.data)\n",
    "            node = node.next\n",
    "        nodes.append(\"None\")\n",
    "        print(\" -> \".join(nodes))\n",
    "    \n",
    "    def __iter__(self):\n",
    "        node = self.head\n",
    "        while node is not None:\n",
    "            yield node\n",
    "            node = node.next\n",
    "    \n",
    "    def insert_first(self, node):\n",
    "        node.next = self.head\n",
    "        self.head = node\n",
    "        \n",
    "    def insert_last(self, node):\n",
    "        if self.head is None:\n",
    "            self.head = node\n",
    "            return\n",
    "\n",
    "        for current_node in self: pass\n",
    "        current_node.next = node\n",
    "    \n",
    "    def insert_after(self, target_data, new_node):\n",
    "        if self.head is None:\n",
    "            raise Exception(\"Empty list\")\n",
    "\n",
    "        for node in self:\n",
    "            if node.data == target_data:\n",
    "                new_node.next = node.next\n",
    "                node.next = new_node\n",
    "                return\n",
    "\n",
    "        raise Exception(\"Target node not found\")\n",
    "        \n",
    "    def remove_node(self, target_data):\n",
    "        if self.head is None:\n",
    "            raise Exception(\"Empty list\")\n",
    "\n",
    "        if self.head.data == target_data:\n",
    "            self.head = self.head.next\n",
    "            return\n",
    "\n",
    "        one_before = self.head\n",
    "        for node in self:\n",
    "            if node.data == target_data:\n",
    "                one_before.next = node.next\n",
    "                return\n",
    "            one_before = node\n",
    "\n",
    "        raise Exception(\"Target node not found\")\n",
    "\n",
    "class Node:\n",
    "    def __init__(self, data):\n",
    "        self.data = data\n",
    "        self.next = None\n",
    "\n",
    "\n"
   ]
  },
  {
   "cell_type": "markdown",
   "id": "ae1564ff",
   "metadata": {},
   "source": [
    "## Iterate over a linked list\n",
    "\n",
    "A common utility when working with linked lists is being able to loop through them. Furthermore, you would like to have the same syntax for looping through a linked list as for looping through a regular list.\n",
    "To enable this, let’s implement the __iter__ method of the LinkedList class:  \n",
    "\n",
    "  \n",
    "This method goes through all the nodes of the linked list. It yields each node and moves to the next node until it encounters a node that is None (end of the list).\n",
    "\n"
   ]
  },
  {
   "cell_type": "code",
   "execution_count": 50,
   "id": "4bc20f23",
   "metadata": {},
   "outputs": [
    {
     "name": "stdout",
     "output_type": "stream",
     "text": [
      "a\n",
      "b\n",
      "c\n"
     ]
    }
   ],
   "source": [
    "\n",
    "first_node = Node(\"a\")\n",
    "second_node = Node(\"b\")\n",
    "third_node = Node(\"c\")\n",
    "\n",
    "l_list = LinkedList()\n",
    "\n",
    "l_list.head = first_node\n",
    "first_node.next = second_node\n",
    "second_node.next = third_node\n",
    "\n",
    "for node in l_list:\n",
    "    print(node.data)"
   ]
  },
  {
   "cell_type": "markdown",
   "id": "0f6e1fec",
   "metadata": {},
   "source": [
    "## Insert a node at the end of a list"
   ]
  },
  {
   "cell_type": "markdown",
   "id": "296a153c",
   "metadata": {},
   "source": [
    "Inserting a node at the end of a list means you need to traverse the whole list first before you can add the new node. If the list is empty, then you can set the new node as the head of the list.\n",
    "Here is an illustration of adding a node to the end of a linked list:"
   ]
  },
  {
   "cell_type": "code",
   "execution_count": 56,
   "id": "eb51868e",
   "metadata": {},
   "outputs": [
    {
     "data": {
      "text/html": [
       "<img src=\"https://miro.medium.com/max/1400/1*FX9f8kan8SIX6Bgi9U9bnQ.png\"/>"
      ],
      "text/plain": [
       "<IPython.core.display.Image object>"
      ]
     },
     "execution_count": 56,
     "metadata": {},
     "output_type": "execute_result"
    }
   ],
   "source": [
    "Image(url= \"https://miro.medium.com/max/1400/1*FX9f8kan8SIX6Bgi9U9bnQ.png\")"
   ]
  },
  {
   "cell_type": "code",
   "execution_count": 58,
   "id": "bbc17a04",
   "metadata": {},
   "outputs": [],
   "source": [
    "def insert_last(self, node):\n",
    "    if self.head is None:\n",
    "        self.head = node\n",
    "        return\n",
    "\n",
    "    for current_node in self: pass\n",
    "    current_node.next = node"
   ]
  },
  {
   "cell_type": "markdown",
   "id": "25d26861",
   "metadata": {},
   "source": [
    "The line for current_node in self: pass traverses to the end of the linked list and makes current_node the last node. The next node of this last node is then updated to become the new node.\n",
    "Let’s test it by creating a linked list, adding two nodes to the beginning of the list and a third one to the end of it:"
   ]
  },
  {
   "cell_type": "markdown",
   "id": "7f7335d1",
   "metadata": {},
   "source": [
    "## Insert a node between two nodes"
   ]
  },
  {
   "cell_type": "code",
   "execution_count": 60,
   "id": "5e8052f6",
   "metadata": {},
   "outputs": [
    {
     "data": {
      "text/html": [
       "<img src=\"https://miro.medium.com/max/1400/1*9E3vt2yPk-_suzwfm4PK9Q.png\"/>"
      ],
      "text/plain": [
       "<IPython.core.display.Image object>"
      ]
     },
     "execution_count": 60,
     "metadata": {},
     "output_type": "execute_result"
    }
   ],
   "source": [
    "Image(url= \"https://miro.medium.com/max/1400/1*9E3vt2yPk-_suzwfm4PK9Q.png\")"
   ]
  },
  {
   "cell_type": "code",
   "execution_count": 66,
   "id": "de557e40",
   "metadata": {},
   "outputs": [],
   "source": [
    "def insert_after(self, target_data, new_node):\n",
    "    if self.head is None:\n",
    "        raise Exception(\"Empty list\")\n",
    "\n",
    "    for node in self:\n",
    "        if node.data == target_data:\n",
    "            new_node.next = node.next\n",
    "            node.next = new_node\n",
    "            return\n",
    "\n",
    "    raise Exception(\"Target node not found\")"
   ]
  },
  {
   "cell_type": "markdown",
   "id": "d355092b",
   "metadata": {},
   "source": [
    "The code loops through the linked list and looks for the target node. When it encounters a target node, it sets the new node’s next reference as the target node’s next reference. Then it sets the target node’s next reference as the new node."
   ]
  },
  {
   "cell_type": "code",
   "execution_count": 67,
   "id": "d79778ab",
   "metadata": {},
   "outputs": [
    {
     "name": "stdout",
     "output_type": "stream",
     "text": [
      "A -> B -> C -> None\n"
     ]
    }
   ],
   "source": [
    "\n",
    "l_list = LinkedList()\n",
    "\n",
    "l_list.insert_first(Node(\"A\"))\n",
    "\n",
    "l_list.insert_after(\"A\", Node(\"B\"))\n",
    "l_list.insert_after(\"B\", Node(\"C\"))\n",
    "\n",
    "l_list.visualize()"
   ]
  },
  {
   "cell_type": "markdown",
   "id": "e81796b7",
   "metadata": {},
   "source": [
    "## How To Remove a Node From a Linked List"
   ]
  },
  {
   "cell_type": "markdown",
   "id": "152c343e",
   "metadata": {},
   "source": [
    "To remove an item from a linked list, you need to traverse the list until you find the node you want to delete. When you find a target, all you need to do is link the previous and next nodes."
   ]
  },
  {
   "cell_type": "code",
   "execution_count": 69,
   "id": "2b2be302",
   "metadata": {},
   "outputs": [],
   "source": [
    "def remove_node(self, target_data):\n",
    "    if self.head is None:\n",
    "        raise Exception(\"Empty list\")\n",
    "\n",
    "    if self.head.data == target_data:\n",
    "        self.head = self.head.next\n",
    "        return\n",
    "\n",
    "    one_before = self.head\n",
    "    for node in self:\n",
    "        if node.data == target_data:\n",
    "            one_before.next = node.next\n",
    "            return\n",
    "        one_before = node\n",
    "\n",
    "    raise Exception(\"Target node not found\")"
   ]
  },
  {
   "cell_type": "markdown",
   "id": "f1222486",
   "metadata": {},
   "source": [
    "Let’s take a closer look at the code:\n",
    "If the linked list is empty, raise an exception.\n",
    "Removing the head node is fine. Set the head node’s next node as the new head.\n",
    "If none of the above applies, you need to traverse the linked list until you find the target node. If you find it, update the node before the target to point to the node after the target node.\n",
    "If no target node is found, raise an exception.\n"
   ]
  },
  {
   "cell_type": "code",
   "execution_count": 70,
   "id": "a205d507",
   "metadata": {},
   "outputs": [
    {
     "name": "stdout",
     "output_type": "stream",
     "text": [
      "A -> C -> None\n"
     ]
    }
   ],
   "source": [
    "l_list = LinkedList()\n",
    "\n",
    "l_list.insert_first(Node(\"A\"))\n",
    "l_list.insert_last(Node(\"B\"))\n",
    "l_list.insert_last(Node(\"C\"))\n",
    "\n",
    "l_list.remove_node(\"B\")\n",
    "\n",
    "l_list.visualize()"
   ]
  },
  {
   "cell_type": "markdown",
   "id": "d33809be",
   "metadata": {},
   "source": [
    "## Addtional Method"
   ]
  },
  {
   "cell_type": "markdown",
   "id": "9d14631f",
   "metadata": {},
   "source": [
    "string.join(iterable)\n",
    "\n",
    "The join( ) method takes all items in an iterable and joins them into one string.  \n",
    "A string must be specified as the separator.  \n"
   ]
  },
  {
   "cell_type": "code",
   "execution_count": 71,
   "id": "dbfdac9e",
   "metadata": {},
   "outputs": [
    {
     "name": "stdout",
     "output_type": "stream",
     "text": [
      "John#Peter#Vicky\n"
     ]
    }
   ],
   "source": [
    "myTuple = (\"John\", \"Peter\", \"Vicky\")\n",
    "\n",
    "x = \"#\".join(myTuple)\n",
    "\n",
    "print(x)"
   ]
  },
  {
   "cell_type": "code",
   "execution_count": 72,
   "id": "1ba9654f",
   "metadata": {},
   "outputs": [
    {
     "name": "stdout",
     "output_type": "stream",
     "text": [
      "nameTESTcountry\n"
     ]
    }
   ],
   "source": [
    "myDict = {\"name\": \"John\", \"country\": \"Norway\"}\n",
    "mySeparator = \"TEST\"\n",
    "\n",
    "x = mySeparator.join(myDict)\n",
    "\n",
    "print(x)"
   ]
  },
  {
   "cell_type": "code",
   "execution_count": null,
   "id": "25171cdc",
   "metadata": {},
   "outputs": [],
   "source": []
  }
 ],
 "metadata": {
  "kernelspec": {
   "display_name": "Python 3 (ipykernel)",
   "language": "python",
   "name": "python3"
  },
  "language_info": {
   "codemirror_mode": {
    "name": "ipython",
    "version": 3
   },
   "file_extension": ".py",
   "mimetype": "text/x-python",
   "name": "python",
   "nbconvert_exporter": "python",
   "pygments_lexer": "ipython3",
   "version": "3.9.7"
  }
 },
 "nbformat": 4,
 "nbformat_minor": 5
}
